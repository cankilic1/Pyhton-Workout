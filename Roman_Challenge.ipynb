{
  "nbformat": 4,
  "nbformat_minor": 0,
  "metadata": {
    "colab": {
      "name": "Roman_Challenge",
      "provenance": [],
      "authorship_tag": "ABX9TyO8vZAO4FDuwEttdNl6v1c7",
      "include_colab_link": true
    },
    "kernelspec": {
      "name": "python3",
      "display_name": "Python 3"
    },
    "language_info": {
      "name": "python"
    }
  },
  "cells": [
    {
      "cell_type": "markdown",
      "metadata": {
        "id": "view-in-github",
        "colab_type": "text"
      },
      "source": [
        "<a href=\"https://colab.research.google.com/github/cankilic1/Pyhton-Workout/blob/main/Roman_Challenge.ipynb\" target=\"_parent\"><img src=\"https://colab.research.google.com/assets/colab-badge.svg\" alt=\"Open In Colab\"/></a>"
      ]
    },
    {
      "cell_type": "code",
      "execution_count": null,
      "metadata": {
        "id": "83ku5d_PE_vR"
      },
      "outputs": [],
      "source": [
        "roman = ['M', 'CM', 'D', 'CD', 'C', 'XC', 'L', 'XL', 'X', 'IX', 'V', 'IV', 'I']\n",
        "decimal = [1000, 900, 500, 400, 100, 90, 50, 40, 10, 9, 5, 4, 1]\n",
        "\n",
        "def dec2roman(number):\n",
        "    romanvalue = \"\"\n",
        "    if type(number) == float:\n",
        "        integer,fractor = str(number).split('.')\n",
        "        integer = int(integer)\n",
        "        while len(fractor) > 3:\n",
        "            fra = list(fractor)\n",
        "            fra.pop()\n",
        "            fractor = \"\".join(fra)\n",
        "        fractor = int(fractor)\n",
        "        return dec2roman(integer)+'.'+dec2roman(fractor)\n",
        "    for i, d in enumerate(decimal):\n",
        "        while (number >= d):\n",
        "            number -= d\n",
        "            romanvalue += roman[i]\n",
        "    return romanvalue\n",
        "\n",
        "while True: \n",
        "    sayı = input(\"###  This program converts decimal numbers to Roman Numerals ### (To exit the program, please type 'exit') Please enter a number between 1 and 3999, inclusively :\")  \n",
        "    if sayı.lower() == \"exit\":\n",
        "        print(\"Exiting the program... Good Bye\")\n",
        "        break\n",
        "    elif sayı.isdigit() == True:\n",
        "        if int(sayı)>3999 or int(sayı)<1:\n",
        "            print(\"Not Valid Input !!!\")\n",
        "            continue\n",
        "        else:\n",
        "            print(dec2roman(int(sayı)))\n",
        "            break\n",
        "    elif type(sayı) == str:\n",
        "        print(\"Not Valid Input !!!\")\n",
        "        continue"
      ]
    }
  ]
}