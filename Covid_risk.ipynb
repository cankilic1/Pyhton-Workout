{
  "nbformat": 4,
  "nbformat_minor": 0,
  "metadata": {
    "colab": {
      "name": "Covid_risk",
      "provenance": [],
      "authorship_tag": "ABX9TyMz07/6TGeLowxnQu+Dxu6x",
      "include_colab_link": true
    },
    "kernelspec": {
      "name": "python3",
      "display_name": "Python 3"
    },
    "language_info": {
      "name": "python"
    }
  },
  "cells": [
    {
      "cell_type": "markdown",
      "metadata": {
        "id": "view-in-github",
        "colab_type": "text"
      },
      "source": [
        "<a href=\"https://colab.research.google.com/github/cankilic1/Pyhton-Workout/blob/main/Covid_risk.ipynb\" target=\"_parent\"><img src=\"https://colab.research.google.com/assets/colab-badge.svg\" alt=\"Open In Colab\"/></a>"
      ]
    },
    {
      "cell_type": "markdown",
      "source": [
        "Problem :\n",
        "\n",
        "Task : Estimating the risk of death from coronavirus. Write a program that;\n",
        "\n",
        "Takes \"Yes\" or \"No\" from the user as an answer to the following questions :\n",
        "\n",
        "Are you a cigarette addict older than 75 years old? Variable → age\n",
        "\n",
        "Do you have a severe chronic disease? Variable → chronic\n",
        "\n",
        "Is your immune system too weak? Variable → immune\n",
        "\n",
        "Set a logical algorithm using boolean logic operators (and/or) and use if-statements with the given variables in order to print out us a message : \"You are in risky group\"(if True ) or \"You are not in risky group\" (if False).\n",
        "\n",
        "age = # can be assigned only True/False\n",
        "\n",
        "chronic = # can be assigned only True/False\n",
        "\n",
        "immune = # can be assigned only True/False\n",
        "\n",
        "risk = ?"
      ],
      "metadata": {
        "id": "E8JW36DYIfrN"
      }
    },
    {
      "cell_type": "code",
      "source": [
        "age = input(\"Are you a cigarette addict older than 75 years old? (Yes/No) :\").lower()\n",
        "if age == \"yes\" :\n",
        "  age = True\n",
        "elif age == \"no\" :\n",
        "  age = False\n",
        "\n",
        "chronic = input(\"Do you have a chronic illness? (Yes/No): \").lower()\n",
        "if chronic == \"yes\" :\n",
        "  chronic = True\n",
        "elif chronic == \"no\" :\n",
        "  chronic = False\n",
        "\n",
        "immune = input(\"Is your immune system strong? (Yes/No): \").lower()\n",
        "if immune == \"yes\" :\n",
        "  immune = False\n",
        "elif immune == \"no\" :\n",
        "  immune = True\n",
        "\n",
        "risk = age or chronic or immune\n",
        "if risk == True :\n",
        "  print(\"You are in risky group\")\n",
        "else :\n",
        "  print(\"You are not in risky group\")\n",
        "  "
      ],
      "metadata": {
        "colab": {
          "base_uri": "https://localhost:8080/"
        },
        "id": "lhQTQOmSI1a5",
        "outputId": "53b9a74f-811b-4d6c-a548-1bc4bfd4ae6d"
      },
      "execution_count": 1,
      "outputs": [
        {
          "output_type": "stream",
          "name": "stdout",
          "text": [
            "Are you a cigarette addict older than 75 years old? (Yes/No) :yes\n",
            "Do you have a chronic illness? (Yes/No): no\n",
            "Is your immune system strong? (Yes/No): yes\n",
            "You are in risky group\n"
          ]
        }
      ]
    },
    {
      "cell_type": "markdown",
      "source": [
        "Are you a cigarette addict older than 75 years old? (Yes/No) :no\n",
        "\n",
        "Do you have a chronic illness? (Yes/No): yes\n",
        "\n",
        "Is your immune system strong? (Yes/No): yes\n",
        "\n",
        "You are in risky group"
      ],
      "metadata": {
        "id": "mnkGGNPFJNWN"
      }
    },
    {
      "cell_type": "code",
      "source": [
        "age = True\n",
        "chronic = True\n",
        "immune = True\n",
        "risk = age or chronic or immune\n",
        "print(risk)"
      ],
      "metadata": {
        "colab": {
          "base_uri": "https://localhost:8080/"
        },
        "id": "Ar-sWB7qIpen",
        "outputId": "9d5d94c5-9325-4500-d7c5-e1c62847c034"
      },
      "execution_count": 2,
      "outputs": [
        {
          "output_type": "stream",
          "name": "stdout",
          "text": [
            "True\n"
          ]
        }
      ]
    }
  ]
}