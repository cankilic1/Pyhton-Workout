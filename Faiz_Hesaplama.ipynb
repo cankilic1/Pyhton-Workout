{
  "nbformat": 4,
  "nbformat_minor": 0,
  "metadata": {
    "colab": {
      "name": "Faiz_Hesaplama.ipynb",
      "provenance": [],
      "collapsed_sections": [],
      "include_colab_link": true
    },
    "kernelspec": {
      "name": "python3",
      "display_name": "Python 3"
    },
    "language_info": {
      "name": "python"
    }
  },
  "cells": [
    {
      "cell_type": "markdown",
      "metadata": {
        "id": "view-in-github",
        "colab_type": "text"
      },
      "source": [
        "<a href=\"https://colab.research.google.com/github/cankilic1/Pyhton-Workout/blob/main/Faiz_Hesaplama.ipynb\" target=\"_parent\"><img src=\"https://colab.research.google.com/assets/colab-badge.svg\" alt=\"Open In Colab\"/></a>"
      ]
    },
    {
      "cell_type": "code",
      "metadata": {
        "id": "oxM8UEYNO5no",
        "colab": {
          "base_uri": "https://localhost:8080/"
        },
        "outputId": "caac7103-1790-4e64-ce16-8112f51a337d"
      },
      "source": [
        "faiz_orani = float(input(\"Faiz oranı girin :\"))\n",
        "vade = int(input(\"Faiz vadesi(yıl) :\"))\n",
        "anapara = float(input(\"Anaparayı girin :\"))\n",
        " \n",
        "faiz = faiz_orani*vade*anapara\n",
        " \n",
        "print(\"Hesaplanan faiz\",faiz)"
      ],
      "execution_count": null,
      "outputs": [
        {
          "output_type": "stream",
          "name": "stdout",
          "text": [
            "Faiz oranı girin :1.07\n",
            "Faiz vadesi(yıl) :5\n",
            "Anaparayı girin :50000\n",
            "Hesaplanan faiz 267500.0\n"
          ]
        }
      ]
    }
  ]
}